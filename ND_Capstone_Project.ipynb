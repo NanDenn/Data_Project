{
 "cells": [
  {
   "cell_type": "markdown",
   "id": "33bfd926",
   "metadata": {},
   "source": [
    "## Import Libraries\n"
   ]
  },
  {
   "cell_type": "code",
   "execution_count": 224,
   "id": "fb496723",
   "metadata": {},
   "outputs": [],
   "source": [
    "#import pandas \n",
    "import pandas as pd\n",
    "import numpy as np\n",
    "\n",
    "import seaborn as sb\n",
    "from sklearn import datasets \n",
    "from sklearn.model_selection import train_test_split\n",
    "from sklearn.ensemble import RandomForestClassifier\n",
    "from sklearn.datasets import make_classification "
   ]
  },
  {
   "cell_type": "markdown",
   "id": "6720f443",
   "metadata": {},
   "source": [
    "## load data set\n"
   ]
  },
  {
   "cell_type": "code",
   "execution_count": 225,
   "id": "c8f36f37",
   "metadata": {},
   "outputs": [],
   "source": [
    "risk_complete = pd.read_csv(r'C:\\Users\\Nancy\\Desktop\\Python_Class\\files\\dataset_risk_analytics.csv', engine='python')"
   ]
  },
  {
   "cell_type": "code",
   "execution_count": 226,
   "id": "2f86fcc8",
   "metadata": {},
   "outputs": [
    {
     "data": {
      "text/html": [
       "<div>\n",
       "<style scoped>\n",
       "    .dataframe tbody tr th:only-of-type {\n",
       "        vertical-align: middle;\n",
       "    }\n",
       "\n",
       "    .dataframe tbody tr th {\n",
       "        vertical-align: top;\n",
       "    }\n",
       "\n",
       "    .dataframe thead th {\n",
       "        text-align: right;\n",
       "    }\n",
       "</style>\n",
       "<table border=\"1\" class=\"dataframe\">\n",
       "  <thead>\n",
       "    <tr style=\"text-align: right;\">\n",
       "      <th></th>\n",
       "      <th>loan_id</th>\n",
       "      <th>monthly_income</th>\n",
       "      <th>origination_score_band</th>\n",
       "      <th>TOB_months</th>\n",
       "      <th>closing_principal_balance</th>\n",
       "      <th>original_loan_amount</th>\n",
       "      <th>product</th>\n",
       "      <th>original_loan_term</th>\n",
       "      <th>remaining_loan_term</th>\n",
       "      <th>delq_history</th>\n",
       "      <th>target</th>\n",
       "    </tr>\n",
       "  </thead>\n",
       "  <tbody>\n",
       "    <tr>\n",
       "      <th>0</th>\n",
       "      <td>1000</td>\n",
       "      <td>6000.0</td>\n",
       "      <td>5</td>\n",
       "      <td>83.0</td>\n",
       "      <td>300.0</td>\n",
       "      <td>1800.0</td>\n",
       "      <td>B</td>\n",
       "      <td>24</td>\n",
       "      <td>5</td>\n",
       "      <td>0,0,0,0,0,0</td>\n",
       "      <td>0</td>\n",
       "    </tr>\n",
       "    <tr>\n",
       "      <th>1</th>\n",
       "      <td>1001</td>\n",
       "      <td>39000.0</td>\n",
       "      <td>5</td>\n",
       "      <td>82.0</td>\n",
       "      <td>7200.0</td>\n",
       "      <td>11700.0</td>\n",
       "      <td>B</td>\n",
       "      <td>60</td>\n",
       "      <td>42</td>\n",
       "      <td>0,1,0,0,0,0</td>\n",
       "      <td>0</td>\n",
       "    </tr>\n",
       "    <tr>\n",
       "      <th>2</th>\n",
       "      <td>1002</td>\n",
       "      <td>18000.0</td>\n",
       "      <td>5</td>\n",
       "      <td>78.0</td>\n",
       "      <td>2700.0</td>\n",
       "      <td>5400.0</td>\n",
       "      <td>B</td>\n",
       "      <td>60</td>\n",
       "      <td>46</td>\n",
       "      <td>0,0,1,0,0,0</td>\n",
       "      <td>0</td>\n",
       "    </tr>\n",
       "    <tr>\n",
       "      <th>3</th>\n",
       "      <td>1003</td>\n",
       "      <td>23250.0</td>\n",
       "      <td>3</td>\n",
       "      <td>76.0</td>\n",
       "      <td>3900.0</td>\n",
       "      <td>6900.0</td>\n",
       "      <td>B</td>\n",
       "      <td>60</td>\n",
       "      <td>48</td>\n",
       "      <td>1,1,0,1,0,0</td>\n",
       "      <td>1</td>\n",
       "    </tr>\n",
       "    <tr>\n",
       "      <th>4</th>\n",
       "      <td>1004</td>\n",
       "      <td>12000.0</td>\n",
       "      <td>3</td>\n",
       "      <td>74.0</td>\n",
       "      <td>2100.0</td>\n",
       "      <td>3600.0</td>\n",
       "      <td>B</td>\n",
       "      <td>60</td>\n",
       "      <td>50</td>\n",
       "      <td>1,0,0,0,0,0</td>\n",
       "      <td>0</td>\n",
       "    </tr>\n",
       "  </tbody>\n",
       "</table>\n",
       "</div>"
      ],
      "text/plain": [
       "   loan_id  monthly_income  origination_score_band  TOB_months  \\\n",
       "0     1000          6000.0                       5        83.0   \n",
       "1     1001         39000.0                       5        82.0   \n",
       "2     1002         18000.0                       5        78.0   \n",
       "3     1003         23250.0                       3        76.0   \n",
       "4     1004         12000.0                       3        74.0   \n",
       "\n",
       "   closing_principal_balance  original_loan_amount product  \\\n",
       "0                      300.0                1800.0       B   \n",
       "1                     7200.0               11700.0       B   \n",
       "2                     2700.0                5400.0       B   \n",
       "3                     3900.0                6900.0       B   \n",
       "4                     2100.0                3600.0       B   \n",
       "\n",
       "   original_loan_term  remaining_loan_term delq_history  target  \n",
       "0                  24                    5  0,0,0,0,0,0       0  \n",
       "1                  60                   42  0,1,0,0,0,0       0  \n",
       "2                  60                   46  0,0,1,0,0,0       0  \n",
       "3                  60                   48  1,1,0,1,0,0       1  \n",
       "4                  60                   50  1,0,0,0,0,0       0  "
      ]
     },
     "execution_count": 226,
     "metadata": {},
     "output_type": "execute_result"
    }
   ],
   "source": [
    "risk_complete.head()\n"
   ]
  },
  {
   "cell_type": "code",
   "execution_count": 227,
   "id": "39fcff12",
   "metadata": {},
   "outputs": [],
   "source": [
    "risk_drop_delq_history = risk_complete.drop(columns = ['delq_history'])"
   ]
  },
  {
   "cell_type": "markdown",
   "id": "51bdfc41",
   "metadata": {},
   "source": [
    "## check for null values"
   ]
  },
  {
   "cell_type": "code",
   "execution_count": 228,
   "id": "3ace451c",
   "metadata": {},
   "outputs": [
    {
     "data": {
      "text/plain": [
       "<AxesSubplot:>"
      ]
     },
     "execution_count": 228,
     "metadata": {},
     "output_type": "execute_result"
    },
    {
     "data": {
      "image/png": "[encoded data removed]",
      "text/plain": [
       "<Figure size 432x288 with 2 Axes>"
      ]
     },
     "metadata": {
      "needs_background": "light"
     },
     "output_type": "display_data"
    }
   ],
   "source": [
    "#check missing values\n",
    "sb.heatmap(risk_drop_delq_history.isnull())"
   ]
  },
  {
   "cell_type": "code",
   "execution_count": 229,
   "id": "259426ad",
   "metadata": {},
   "outputs": [
    {
     "name": "stdout",
     "output_type": "stream",
     "text": [
      "(5783, 10)\n"
     ]
    }
   ],
   "source": [
    "#check attributes\n",
    "print(risk_drop_delq_history.shape)"
   ]
  },
  {
   "cell_type": "code",
   "execution_count": 230,
   "id": "fa8d1eee",
   "metadata": {},
   "outputs": [],
   "source": [
    "#drop rows with at least one missing value\n",
    "risk = risk_drop_delq_history.dropna()"
   ]
  },
  {
   "cell_type": "code",
   "execution_count": 231,
   "id": "db4dd8ab",
   "metadata": {},
   "outputs": [
    {
     "name": "stdout",
     "output_type": "stream",
     "text": [
      "(5406, 10)\n"
     ]
    }
   ],
   "source": [
    "print(risk.shape)"
   ]
  },
  {
   "cell_type": "code",
   "execution_count": 232,
   "id": "90c94582",
   "metadata": {},
   "outputs": [
    {
     "data": {
      "text/html": [
       "<div>\n",
       "<style scoped>\n",
       "    .dataframe tbody tr th:only-of-type {\n",
       "        vertical-align: middle;\n",
       "    }\n",
       "\n",
       "    .dataframe tbody tr th {\n",
       "        vertical-align: top;\n",
       "    }\n",
       "\n",
       "    .dataframe thead th {\n",
       "        text-align: right;\n",
       "    }\n",
       "</style>\n",
       "<table border=\"1\" class=\"dataframe\">\n",
       "  <thead>\n",
       "    <tr style=\"text-align: right;\">\n",
       "      <th></th>\n",
       "      <th>loan_id</th>\n",
       "      <th>monthly_income</th>\n",
       "      <th>origination_score_band</th>\n",
       "      <th>TOB_months</th>\n",
       "      <th>closing_principal_balance</th>\n",
       "      <th>original_loan_amount</th>\n",
       "      <th>product</th>\n",
       "      <th>original_loan_term</th>\n",
       "      <th>remaining_loan_term</th>\n",
       "      <th>target</th>\n",
       "    </tr>\n",
       "  </thead>\n",
       "  <tbody>\n",
       "    <tr>\n",
       "      <th>0</th>\n",
       "      <td>1000</td>\n",
       "      <td>6000.0</td>\n",
       "      <td>5</td>\n",
       "      <td>83.0</td>\n",
       "      <td>300.0</td>\n",
       "      <td>1800.0</td>\n",
       "      <td>B</td>\n",
       "      <td>24</td>\n",
       "      <td>5</td>\n",
       "      <td>0</td>\n",
       "    </tr>\n",
       "    <tr>\n",
       "      <th>1</th>\n",
       "      <td>1001</td>\n",
       "      <td>39000.0</td>\n",
       "      <td>5</td>\n",
       "      <td>82.0</td>\n",
       "      <td>7200.0</td>\n",
       "      <td>11700.0</td>\n",
       "      <td>B</td>\n",
       "      <td>60</td>\n",
       "      <td>42</td>\n",
       "      <td>0</td>\n",
       "    </tr>\n",
       "    <tr>\n",
       "      <th>2</th>\n",
       "      <td>1002</td>\n",
       "      <td>18000.0</td>\n",
       "      <td>5</td>\n",
       "      <td>78.0</td>\n",
       "      <td>2700.0</td>\n",
       "      <td>5400.0</td>\n",
       "      <td>B</td>\n",
       "      <td>60</td>\n",
       "      <td>46</td>\n",
       "      <td>0</td>\n",
       "    </tr>\n",
       "    <tr>\n",
       "      <th>3</th>\n",
       "      <td>1003</td>\n",
       "      <td>23250.0</td>\n",
       "      <td>3</td>\n",
       "      <td>76.0</td>\n",
       "      <td>3900.0</td>\n",
       "      <td>6900.0</td>\n",
       "      <td>B</td>\n",
       "      <td>60</td>\n",
       "      <td>48</td>\n",
       "      <td>1</td>\n",
       "    </tr>\n",
       "    <tr>\n",
       "      <th>4</th>\n",
       "      <td>1004</td>\n",
       "      <td>12000.0</td>\n",
       "      <td>3</td>\n",
       "      <td>74.0</td>\n",
       "      <td>2100.0</td>\n",
       "      <td>3600.0</td>\n",
       "      <td>B</td>\n",
       "      <td>60</td>\n",
       "      <td>50</td>\n",
       "      <td>0</td>\n",
       "    </tr>\n",
       "  </tbody>\n",
       "</table>\n",
       "</div>"
      ],
      "text/plain": [
       "   loan_id  monthly_income  origination_score_band  TOB_months  \\\n",
       "0     1000          6000.0                       5        83.0   \n",
       "1     1001         39000.0                       5        82.0   \n",
       "2     1002         18000.0                       5        78.0   \n",
       "3     1003         23250.0                       3        76.0   \n",
       "4     1004         12000.0                       3        74.0   \n",
       "\n",
       "   closing_principal_balance  original_loan_amount product  \\\n",
       "0                      300.0                1800.0       B   \n",
       "1                     7200.0               11700.0       B   \n",
       "2                     2700.0                5400.0       B   \n",
       "3                     3900.0                6900.0       B   \n",
       "4                     2100.0                3600.0       B   \n",
       "\n",
       "   original_loan_term  remaining_loan_term  target  \n",
       "0                  24                    5       0  \n",
       "1                  60                   42       0  \n",
       "2                  60                   46       0  \n",
       "3                  60                   48       1  \n",
       "4                  60                   50       0  "
      ]
     },
     "execution_count": 232,
     "metadata": {},
     "output_type": "execute_result"
    }
   ],
   "source": [
    "risk.head()"
   ]
  },
  {
   "cell_type": "code",
   "execution_count": 233,
   "id": "e4fae1ad",
   "metadata": {},
   "outputs": [],
   "source": [
    "#create dummy columns for product column since its an object. \n",
    "productcolumndummy = pd.get_dummies(risk['product'])"
   ]
  },
  {
   "cell_type": "code",
   "execution_count": 234,
   "id": "1cfe334c",
   "metadata": {},
   "outputs": [],
   "source": [
    "#add dummy colume to original column\n",
    "risk = pd.concat((risk,productcolumndummy), axis=1)"
   ]
  },
  {
   "cell_type": "code",
   "execution_count": 235,
   "id": "e87ca82c",
   "metadata": {},
   "outputs": [],
   "source": [
    "#drop prouct column from the original column\n",
    "\n",
    "risk = risk.drop(['product'], axis=1)"
   ]
  },
  {
   "cell_type": "code",
   "execution_count": 236,
   "id": "d02b0a95",
   "metadata": {},
   "outputs": [
    {
     "name": "stdout",
     "output_type": "stream",
     "text": [
      "<class 'pandas.core.frame.DataFrame'>\n",
      "Int64Index: 5406 entries, 0 to 5782\n",
      "Data columns (total 13 columns):\n",
      " #   Column                     Non-Null Count  Dtype  \n",
      "---  ------                     --------------  -----  \n",
      " 0   loan_id                    5406 non-null   int64  \n",
      " 1   monthly_income             5406 non-null   float64\n",
      " 2   origination_score_band     5406 non-null   int64  \n",
      " 3   TOB_months                 5406 non-null   float64\n",
      " 4   closing_principal_balance  5406 non-null   float64\n",
      " 5   original_loan_amount       5406 non-null   float64\n",
      " 6   original_loan_term         5406 non-null   int64  \n",
      " 7   remaining_loan_term        5406 non-null   int64  \n",
      " 8   target                     5406 non-null   int64  \n",
      " 9   A                          5406 non-null   uint8  \n",
      " 10  B                          5406 non-null   uint8  \n",
      " 11  C                          5406 non-null   uint8  \n",
      " 12  D                          5406 non-null   uint8  \n",
      "dtypes: float64(4), int64(5), uint8(4)\n",
      "memory usage: 443.5 KB\n"
     ]
    }
   ],
   "source": [
    "risk.head()\n",
    "\n",
    "risk.info()"
   ]
  },
  {
   "cell_type": "code",
   "execution_count": 237,
   "id": "94df0121",
   "metadata": {},
   "outputs": [],
   "source": [
    "#seperate the dateframe into X and y data\n",
    "x = risk.values\n",
    "y = risk['target'].values"
   ]
  },
  {
   "cell_type": "code",
   "execution_count": 238,
   "id": "ff29c48d",
   "metadata": {},
   "outputs": [],
   "source": [
    "#Delete target column from X\n",
    "x = np.delete(x,8,axis=1)"
   ]
  },
  {
   "cell_type": "code",
   "execution_count": 239,
   "id": "1b333173",
   "metadata": {},
   "outputs": [
    {
     "data": {
      "text/plain": [
       "(5406, 12)"
      ]
     },
     "execution_count": 239,
     "metadata": {},
     "output_type": "execute_result"
    }
   ],
   "source": [
    "x.shape"
   ]
  },
  {
   "cell_type": "code",
   "execution_count": 240,
   "id": "5e25052e",
   "metadata": {},
   "outputs": [
    {
     "data": {
      "text/plain": [
       "(5406,)"
      ]
     },
     "execution_count": 240,
     "metadata": {},
     "output_type": "execute_result"
    }
   ],
   "source": [
    "y.shape"
   ]
  },
  {
   "cell_type": "markdown",
   "id": "02f4274e",
   "metadata": {},
   "source": [
    "## Dataset Split (80/20) Ratio"
   ]
  },
  {
   "cell_type": "code",
   "execution_count": 241,
   "id": "dfc4b2f8",
   "metadata": {},
   "outputs": [],
   "source": [
    "x_train, x_test, y_train, y_test = train_test_split(x, y, test_size=0.2)"
   ]
  },
  {
   "cell_type": "code",
   "execution_count": 242,
   "id": "d2595fb3",
   "metadata": {},
   "outputs": [
    {
     "data": {
      "text/plain": [
       "((4324, 12), (4324,))"
      ]
     },
     "execution_count": 242,
     "metadata": {},
     "output_type": "execute_result"
    }
   ],
   "source": [
    "x_train.shape, y_train.shape"
   ]
  },
  {
   "cell_type": "code",
   "execution_count": 243,
   "id": "ee3678aa",
   "metadata": {},
   "outputs": [
    {
     "data": {
      "text/plain": [
       "((1082, 12), (1082,))"
      ]
     },
     "execution_count": 243,
     "metadata": {},
     "output_type": "execute_result"
    }
   ],
   "source": [
    "x_test.shape, y_test.shape"
   ]
  },
  {
   "cell_type": "markdown",
   "id": "a5dfb854",
   "metadata": {},
   "source": [
    "## Build the Random Forest Method"
   ]
  },
  {
   "cell_type": "code",
   "execution_count": 244,
   "id": "02f62d61",
   "metadata": {},
   "outputs": [
    {
     "data": {
      "text/plain": [
       "RandomForestClassifier()"
      ]
     },
     "execution_count": 244,
     "metadata": {},
     "output_type": "execute_result"
    }
   ],
   "source": [
    "clf.fit(x_train, y_train)"
   ]
  },
  {
   "cell_type": "code",
   "execution_count": 245,
   "id": "0ec9f93a",
   "metadata": {},
   "outputs": [
    {
     "data": {
      "text/plain": [
       "array([1.003e+03, 2.325e+04, 3.000e+00, 7.600e+01, 3.900e+03, 6.900e+03,\n",
       "       6.000e+01, 4.800e+01, 0.000e+00, 1.000e+00, 0.000e+00, 0.000e+00])"
      ]
     },
     "execution_count": 245,
     "metadata": {},
     "output_type": "execute_result"
    }
   ],
   "source": [
    "x[3]"
   ]
  },
  {
   "cell_type": "code",
   "execution_count": 246,
   "id": "75dc7bbe",
   "metadata": {},
   "outputs": [
    {
     "name": "stdout",
     "output_type": "stream",
     "text": [
      "[1]\n"
     ]
    }
   ],
   "source": [
    "print(clf.predict([[1.003e+03, 2.325e+04, 3.000e+00, 7.600e+01, 3.900e+03, 6.900e+03,\n",
    "       6.000e+01, 4.800e+01, 0.000e+00, 1.000e+00, 0.000e+00, 0.000e+00]]))"
   ]
  },
  {
   "cell_type": "code",
   "execution_count": 247,
   "id": "3b2e0b28",
   "metadata": {},
   "outputs": [
    {
     "data": {
      "text/plain": [
       "array([1.0e+03, 6.0e+03, 5.0e+00, 8.3e+01, 3.0e+02, 1.8e+03, 2.4e+01,\n",
       "       5.0e+00, 0.0e+00, 1.0e+00, 0.0e+00, 0.0e+00])"
      ]
     },
     "execution_count": 247,
     "metadata": {},
     "output_type": "execute_result"
    }
   ],
   "source": [
    "x[0]"
   ]
  },
  {
   "cell_type": "code",
   "execution_count": 248,
   "id": "cb6de0c7",
   "metadata": {},
   "outputs": [
    {
     "name": "stdout",
     "output_type": "stream",
     "text": [
      "[0]\n"
     ]
    }
   ],
   "source": [
    "print(clf.predict([[1.0e+03, 6.0e+03, 5.0e+00, 8.3e+01, 3.0e+02, 1.8e+03, 2.4e+01,\n",
    "       5.0e+00, 0.0e+00, 1.0e+00, 0.0e+00, 0.0e+00]]))"
   ]
  },
  {
   "cell_type": "code",
   "execution_count": 249,
   "id": "1da4a772",
   "metadata": {},
   "outputs": [
    {
     "data": {
      "text/plain": [
       "array([6.248e+03, 9.750e+03, 7.000e+00, 6.000e+00, 7.500e+03, 7.500e+03,\n",
       "       6.000e+01, 6.500e+01, 0.000e+00, 0.000e+00, 0.000e+00, 1.000e+00])"
      ]
     },
     "execution_count": 249,
     "metadata": {},
     "output_type": "execute_result"
    }
   ],
   "source": [
    "x[-2]"
   ]
  },
  {
   "cell_type": "code",
   "execution_count": 250,
   "id": "c9e84fe7",
   "metadata": {},
   "outputs": [
    {
     "name": "stdout",
     "output_type": "stream",
     "text": [
      "[1]\n"
     ]
    }
   ],
   "source": [
    "print(clf.predict([[6.248e+03, 9.750e+03, 7.000e+00, 6.000e+00, 7.500e+03, 7.500e+03,\n",
    "       6.000e+01, 6.500e+01, 0.000e+00, 0.000e+00, 0.000e+00, 1.000e+00]]))"
   ]
  },
  {
   "cell_type": "markdown",
   "id": "fb00b54a",
   "metadata": {},
   "source": [
    "## Performs prediction on the test set"
   ]
  },
  {
   "cell_type": "code",
   "execution_count": 251,
   "id": "4219f7fe",
   "metadata": {},
   "outputs": [
    {
     "name": "stdout",
     "output_type": "stream",
     "text": [
      "[0 1 0 ... 1 1 0]\n"
     ]
    }
   ],
   "source": [
    "print(clf.predict(x_test))"
   ]
  },
  {
   "cell_type": "code",
   "execution_count": null,
   "id": "69f30117",
   "metadata": {},
   "outputs": [],
   "source": []
  },
  {
   "cell_type": "code",
   "execution_count": 252,
   "id": "df773512",
   "metadata": {},
   "outputs": [
    {
     "name": "stdout",
     "output_type": "stream",
     "text": [
      "[0 1 0 ... 1 1 0]\n"
     ]
    }
   ],
   "source": [
    "print(y_test)"
   ]
  },
  {
   "cell_type": "markdown",
   "id": "dbe255ad",
   "metadata": {},
   "source": [
    "## Model Performance"
   ]
  },
  {
   "cell_type": "code",
   "execution_count": 253,
   "id": "5ff76740",
   "metadata": {},
   "outputs": [
    {
     "name": "stdout",
     "output_type": "stream",
     "text": [
      "0.9768946395563771\n"
     ]
    }
   ],
   "source": [
    "print(clf.score(x_test, y_test))"
   ]
  },
  {
   "cell_type": "code",
   "execution_count": null,
   "id": "1eb14eb1",
   "metadata": {},
   "outputs": [],
   "source": []
  },
  {
   "cell_type": "code",
   "execution_count": null,
   "id": "d88a89b9",
   "metadata": {},
   "outputs": [],
   "source": []
  },
  {
   "cell_type": "code",
   "execution_count": null,
   "id": "8781c246",
   "metadata": {},
   "outputs": [],
   "source": []
  },
  {
   "cell_type": "code",
   "execution_count": null,
   "id": "4bb54027",
   "metadata": {},
   "outputs": [],
   "source": []
  },
  {
   "cell_type": "code",
   "execution_count": null,
   "id": "39462354",
   "metadata": {},
   "outputs": [],
   "source": []
  }
 ],
 "metadata": {
  "kernelspec": {
   "display_name": "Python 3 (ipykernel)",
   "language": "python",
   "name": "python3"
  },
  "language_info": {
   "codemirror_mode": {
    "name": "ipython",
    "version": 3
   },
   "file_extension": ".py",
   "mimetype": "text/x-python",
   "name": "python",
   "nbconvert_exporter": "python",
   "pygments_lexer": "ipython3",
   "version": "3.9.12"
  }
 },
 "nbformat": 4,
 "nbformat_minor": 5
}
